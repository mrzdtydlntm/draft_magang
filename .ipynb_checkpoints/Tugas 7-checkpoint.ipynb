{
 "cells": [
  {
   "cell_type": "markdown",
   "id": "spanish-ethics",
   "metadata": {},
   "source": [
    "# Pandas Part 1"
   ]
  },
  {
   "cell_type": "markdown",
   "id": "light-cruise",
   "metadata": {},
   "source": [
    "1. Library pandas digunakan untuk apa?\n",
    "2. Dalam pandas, terdapat penyajian data seperti apa saja?\n",
    "3. Apa saja yang dapat dilakukan menggunakan library pandas? Sebutkan 5 buah!"
   ]
  },
  {
   "cell_type": "markdown",
   "id": "signal-tackle",
   "metadata": {},
   "source": [
    "Jawaban:"
   ]
  },
  {
   "cell_type": "markdown",
   "id": "natural-newark",
   "metadata": {},
   "source": [
    "Bacalah dataset covid-19 dari link berikut:\\\n",
    "https://raw.githubusercontent.com/datasets/covid-19/main/data/worldwide-aggregate.csv\n",
    "\n",
    "Dari pembacaan dataset tersebut, lakukanlah hal berikut:\\\n",
    "1. Membaca data 5 kolom teratas\n",
    "2. Membaca data 10 kolom terakhir\n",
    "3. Melihat info dari dalam dataset tersebut setiap kolomnya\n",
    "4. Carilah statistika deskriptif dari kolom Confirmed, Recovered, Death, Increased Rate\n",
    "5. Cermati dataset tersebut apakah terdapat nilai null didalamnya atau tidak\n",
    "6. Jika terdapat nilai null, ubahlah data null tadi menjadi rata-rata dari kolom tersebut (agar tidak mengubah rata-rata global)"
   ]
  },
  {
   "cell_type": "code",
   "execution_count": null,
   "id": "canadian-batch",
   "metadata": {},
   "outputs": [],
   "source": []
  }
 ],
 "metadata": {
  "kernelspec": {
   "display_name": "Python 3",
   "language": "python",
   "name": "python3"
  },
  "language_info": {
   "codemirror_mode": {
    "name": "ipython",
    "version": 3
   },
   "file_extension": ".py",
   "mimetype": "text/x-python",
   "name": "python",
   "nbconvert_exporter": "python",
   "pygments_lexer": "ipython3",
   "version": "3.8.5"
  }
 },
 "nbformat": 4,
 "nbformat_minor": 5
}
