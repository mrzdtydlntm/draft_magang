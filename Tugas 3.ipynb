{
 "cells": [
  {
   "cell_type": "markdown",
   "metadata": {},
   "source": [
    "## Pengondisian"
   ]
  },
  {
   "cell_type": "markdown",
   "metadata": {},
   "source": [
    "1. Pengondisian untuk apa?\n",
    "2. Apa sintaks pengondisian dalam Python?\n",
    "3. Coba buat pengondisian di bawah"
   ]
  },
  {
   "cell_type": "code",
   "execution_count": null,
   "metadata": {},
   "outputs": [],
   "source": [
    "#code here\n",
    "#Pengondisian jika i kurang dari 5 maka akan menampilkan 'Kurang dari 5' \n",
    "#dan selain itu maka akan menampilkan 'Lebih dari 5'. Untuk i gunakan angka 10 dan 1\n",
    "\n",
    "... i ... 5:\n",
    "    print('Kurang dari 5')\n",
    "...:\n",
    "    print('Lebih dari 5')"
   ]
  },
  {
   "cell_type": "markdown",
   "metadata": {},
   "source": [
    "Jika kita ingin mengubah nilai menjadi huruf mutu dari A hingga E dengan kondisi:\n",
    "- A untuk nilai 80<= Nilai <=100, dengan A bernilai mutu 4\n",
    "- B untuk nilai 68<= Nilai <80, dengan B bernilai mutu 3\n",
    "- C untuk nilai 56<= Nilai <68, dengan C bernilai mutu 2\n",
    "- D untuk nilai 45<= Nilai <56, dengan D bernilai mutu 1\n",
    "- E untuk nilai Nilai <45, dengan E bernilai mutu 0\n",
    "- Untuk Nilai<0 dan Nilai>100 maka akan menampilkan 'Nilai yang anda input salah'"
   ]
  },
  {
   "cell_type": "code",
   "execution_count": null,
   "metadata": {},
   "outputs": [],
   "source": [
    "#code here"
   ]
  }
 ],
 "metadata": {
  "kernelspec": {
   "display_name": "Python 3.8.5 64-bit",
   "language": "python",
   "name": "python38564bit67d9f39a0fb54fe2a7217e535432678f"
  },
  "language_info": {
   "codemirror_mode": {
    "name": "ipython",
    "version": 3
   },
   "file_extension": ".py",
   "mimetype": "text/x-python",
   "name": "python",
   "nbconvert_exporter": "python",
   "pygments_lexer": "ipython3",
   "version": "3.8.5"
  }
 },
 "nbformat": 4,
 "nbformat_minor": 4
}
