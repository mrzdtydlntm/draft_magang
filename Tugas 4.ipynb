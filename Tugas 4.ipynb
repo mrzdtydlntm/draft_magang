{
 "cells": [
  {
   "cell_type": "markdown",
   "metadata": {},
   "source": [
    "## Bunch of Data"
   ]
  },
  {
   "cell_type": "markdown",
   "metadata": {},
   "source": [
    "1. Sebutkan perbedaan List, Set, Tuple dan Dictionary!\n",
    "\n",
    "2. Kapan kita harus menggunakan salah satu dari keempat tipe penyimpanan data tersebut?\n",
    "\n",
    "3. Apakah tuple bisa dirubah elemen datanya?\n",
    "\n",
    "4. Sintaks apa yang digunakan untuk menambahkan elemen kedalam suatu list?\n",
    "\n",
    "5. Mengapa jika kita membuat set, tidak bisa melakukan indexing didalamnya?"
   ]
  },
  {
   "cell_type": "markdown",
   "metadata": {},
   "source": [
    "jawaban:"
   ]
  },
  {
   "cell_type": "code",
   "execution_count": null,
   "metadata": {},
   "outputs": [],
   "source": [
    "list_minuman = ['teh botol', 'aqua', 'le minerale', 'sprite', 'fanta', 'coca-cola', 'nasi goreng']\n",
    "\n",
    "#hilangkan elemen nasi goreng karena nasi goreng bukan minuman\n",
    "list_minuman....('...')\n",
    "print(list_minuman)\n",
    "print()\n",
    "\n",
    "#urutkan secara descending\n",
    "list_minuman....()\n",
    "print(list_minuman)\n",
    "print()\n",
    "\n",
    "#tampilkan list secara satu persatu menggunakan enumerate()\n",
    "...\n",
    "print(list_minuman)"
   ]
  },
  {
   "cell_type": "markdown",
   "metadata": {},
   "source": [
    "expected output:\n",
    "\n",
    "['teh botol', 'aqua', 'le minerale', 'sprite', 'fanta', 'coca-cola']\n",
    "\n",
    "\n",
    "['aqua', 'coca-cola', 'fanta', 'le minerale', 'sprite', 'teh botol']\n",
    "\n",
    "\n",
    "Minuman ke 1 adalah aqua\\\n",
    "Minuman ke 2 adalah coca-cola\\\n",
    "Minuman ke 3 adalah fanta\\\n",
    "Minuman ke 4 adalah le minerale\\\n",
    "Minuman ke 5 adalah sprite\\\n",
    "Minuman ke 6 adalah teh botol"
   ]
  },
  {
   "cell_type": "code",
   "execution_count": null,
   "metadata": {},
   "outputs": [],
   "source": [
    "#ubahlah list_minuman menjadi set\n",
    "set_minuman = ...(list_minuman)\n",
    "print(set_minuman)\n",
    "print()\n",
    "\n",
    "set_minuman_mantap = {'coca-cola', 'fanta', 'amer', 'guiness', 'arbal'}\n",
    "#buatlah gabungan, irisan dan sisa dari irisan (difference) dari set_minuman dan set_minuman_mantap\n",
    "print(...)\n",
    "print(...)\n",
    "print(...)"
   ]
  },
  {
   "cell_type": "markdown",
   "metadata": {},
   "source": [
    "expected output=\n",
    "\n",
    "{'fanta', 'coca-cola', 'le minerale', 'teh botol', 'sprite', 'aqua'}\n",
    "\n",
    "\n",
    "{'amer', 'fanta', 'coca-cola', 'le minerale', 'arbal', 'teh botol', 'sprite', 'aqua', 'guiness'}\\\n",
    "{'fanta', 'coca-cola'}\\\n",
    "{'le minerale', 'teh botol', 'sprite', 'aqua'}"
   ]
  },
  {
   "cell_type": "code",
   "execution_count": null,
   "metadata": {},
   "outputs": [],
   "source": [
    "#ubahlah list_minuman menjadi tuple\n",
    "tuple_minuman = ...(list_minuman)\n",
    "print(tuple_minuman)\n",
    "print()\n",
    "\n",
    "#tampilkan apa saja yang dapat dilakukan dengan tuple\n",
    "print(dir(tuple_minuman))\n",
    "print()\n",
    "\n",
    "#cari berapa jumlah coca-cola dan aqua\n",
    "print(tuple_minuman....('coca-cola'))\n",
    "print(tuple_minuman....('aqua'))\n",
    "print()"
   ]
  },
  {
   "cell_type": "markdown",
   "metadata": {},
   "source": [
    "expected output:\n",
    "\n",
    "('aqua', 'coca-cola', 'fanta', 'le minerale', 'sprite', 'teh botol')\n",
    "\n",
    "\n",
    "['__add__', '__class__', '__contains__', '__delattr__', '__dir__', '__doc__', '__eq__', '__format__', '__ge__', '__getattribute__', '__getitem__', '__getnewargs__', '__gt__', '__hash__', '__init__', '__init_subclass__', '__iter__', '__le__', '__len__', '__lt__', '__mul__', '__ne__', '__new__', '__reduce__', '__reduce_ex__', '__repr__', '__rmul__', '__setattr__', '__sizeof__', '__str__', '__subclasshook__', 'count', 'index']\n",
    "\n",
    "\n",
    "1\\\n",
    "1"
   ]
  },
  {
   "cell_type": "code",
   "execution_count": null,
   "metadata": {},
   "outputs": [],
   "source": [
    "oleh2_jabar = {'Makanan':['Batagor', 'Cilok', 'Dodol', 'Intip'],\n",
    "               'Minuman':['Bajigur', 'Bandrek', 'Oyen', 'Cendol']}\n",
    "\n",
    "#tampilkan key dan value dari dictionary\n",
    "\n",
    "#tampilkan semua makanan dan minuman kedalam list\n",
    "\n",
    "#tambahkan 'Nasi Kalong' ke key makanan dan 'Goyobod' ke minuman\n"
   ]
  },
  {
   "cell_type": "markdown",
   "metadata": {},
   "source": [
    "expected output:\n",
    "\n",
    "dict_keys(['Makanan', 'Minuman'])\\\n",
    "dict_values([['Batagor', 'Cilok', 'Dodol', 'Intip'], ['Bajigur', 'Bandrek', 'Oyen', 'Cendol']])\n",
    "\n",
    "['Batagor', 'Cilok', 'Dodol', 'Intip']\\\n",
    "['Bajigur', 'Bandrek', 'Oyen', 'Cendol']\n",
    "\n",
    "\n",
    "dict_items([('Makanan', ['Batagor', 'Cilok', 'Dodol', 'Intip', 'Nasi Kalong']), ('Minuman', ['Bajigur', 'Bandrek', 'Oyen', 'Cendol', 'Goyobod'])])"
   ]
  },
  {
   "cell_type": "code",
   "execution_count": null,
   "metadata": {},
   "outputs": [],
   "source": []
  }
 ],
 "metadata": {
  "kernelspec": {
   "display_name": "Python 3.8.5 64-bit",
   "language": "python",
   "name": "python38564bit67d9f39a0fb54fe2a7217e535432678f"
  },
  "language_info": {
   "codemirror_mode": {
    "name": "ipython",
    "version": 3
   },
   "file_extension": ".py",
   "mimetype": "text/x-python",
   "name": "python",
   "nbconvert_exporter": "python",
   "pygments_lexer": "ipython3",
   "version": "3.8.5"
  }
 },
 "nbformat": 4,
 "nbformat_minor": 4
}
