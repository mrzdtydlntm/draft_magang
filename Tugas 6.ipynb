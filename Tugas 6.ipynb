{
 "cells": [
  {
   "cell_type": "markdown",
   "id": "checked-reaction",
   "metadata": {},
   "source": [
    "# Library Numpy dan Matplotlib"
   ]
  },
  {
   "cell_type": "markdown",
   "id": "right-summit",
   "metadata": {},
   "source": [
    "1. Jelaskan kegunaan Numpy !\n",
    "2. Jelaskan kegunaan Matplotlib !\n",
    "3. Perbedaan module numpy arange dan linspace itu apa ?\n",
    "4. Perbedaan dari list dan array yang berasal dari modul numpy ?\n",
    "5. Bagaimana cara import matplotlib agar bisa plotting data di python?"
   ]
  },
  {
   "cell_type": "markdown",
   "id": "rental-youth",
   "metadata": {},
   "source": [
    "Jawaban:"
   ]
  },
  {
   "cell_type": "markdown",
   "id": "suspended-things",
   "metadata": {},
   "source": [
    "Buatlah numpy random integer dari 1 hingga 100 sebanyak 100 elemen untuk variabel y1, random number sebanyak 100 elemen untuk variabel y2 dan variabel x merupakan array sebanyak panjang dari variabel y lalu plot dan beri label:\n",
    "- Title = Plot Sumbu X terhadap Y\n",
    "- Label X = Nilai X\n",
    "- Label Y = Nilai Y\n",
    "- Label plot y1 = Random Integer\n",
    "- Label plot y2 = Random Number\n",
    "- Tampilkan legendnya"
   ]
  },
  {
   "cell_type": "code",
   "execution_count": null,
   "id": "regulated-kansas",
   "metadata": {},
   "outputs": [],
   "source": [
    "#code here"
   ]
  },
  {
   "cell_type": "markdown",
   "id": "expanded-color",
   "metadata": {},
   "source": [
    "Buatlah bar plot yang menghitung banyaknya angka yang keluar dari 1 hingga 10 dengan variabel x nya adalah random integer sebanyak 1000 elemen."
   ]
  },
  {
   "cell_type": "code",
   "execution_count": null,
   "id": "wicked-trustee",
   "metadata": {},
   "outputs": [],
   "source": [
    "#code here"
   ]
  },
  {
   "cell_type": "markdown",
   "id": "gorgeous-choir",
   "metadata": {},
   "source": [
    "# Khusus Numpy"
   ]
  },
  {
   "cell_type": "code",
   "execution_count": null,
   "id": "capable-korean",
   "metadata": {},
   "outputs": [],
   "source": [
    "a = np.array([1,2], [3,4])\n",
    "b = np.array([5,6], [7,8])\n",
    "\n",
    "#gabungkan array a dan b menjadi variabel c1 untuk join menjadi array kebawah dan c2 untuk join menjadi array kepinggir\n",
    "#clue >>> mainin di axis"
   ]
  },
  {
   "cell_type": "code",
   "execution_count": null,
   "id": "breathing-hollow",
   "metadata": {},
   "outputs": [],
   "source": [
    "ran = np.random.random(100)\n",
    "#urutkan ran dari besar ke kecil untuk variabel ran_besarkecil, dan dari kecil ke besar untuk variabel ran_kecilbesar"
   ]
  },
  {
   "cell_type": "markdown",
   "id": "separate-craps",
   "metadata": {},
   "source": [
    "# Khusus Matplotlib"
   ]
  },
  {
   "cell_type": "code",
   "execution_count": null,
   "id": "hawaiian-nebraska",
   "metadata": {},
   "outputs": [],
   "source": [
    "x1 = np.array([5,7,8,7,2,17,2,9,4,11,12,9,6])\n",
    "y1 = np.array([99,86,87,88,111,86,103,87,94,78,77,85,86])"
   ]
  },
  {
   "cell_type": "code",
   "execution_count": null,
   "id": "multiple-coordinate",
   "metadata": {},
   "outputs": [],
   "source": [
    "x2 = np.array([2,2,8,1,15,8,12,9,7,3,11,4,7,14,12])\n",
    "y2 = np.array([100,105,84,105,90,99,90,95,94,100,79,112,91,80,85])"
   ]
  },
  {
   "cell_type": "code",
   "execution_count": null,
   "id": "optional-convenience",
   "metadata": {},
   "outputs": [],
   "source": [
    "#buatlah scatter plot dari kedua cell diatas menjadi satu buah figure.\n",
    "#untuk x1 y1 berwarna biru dan x2 y2 berwarna hitam"
   ]
  },
  {
   "cell_type": "markdown",
   "id": "middle-austria",
   "metadata": {},
   "source": [
    "<br>"
   ]
  },
  {
   "cell_type": "code",
   "execution_count": null,
   "id": "identified-ranch",
   "metadata": {},
   "outputs": [],
   "source": [
    "x = np.array([5,7,8,7,2,17,2,9,4,11,12,9,6,1,2])\n",
    "y = np.array([100,105,84,105,90,99,90,95,94,100,79,112,91,80,85])"
   ]
  },
  {
   "cell_type": "code",
   "execution_count": null,
   "id": "contained-integer",
   "metadata": {},
   "outputs": [],
   "source": [
    "#buatlah scatter plot dengan heatmap untuk cell diatas dan tampilkan colorbar heatmapnya\n",
    "#heatmap yang digunakan adalah Spectral"
   ]
  }
 ],
 "metadata": {
  "kernelspec": {
   "display_name": "Python 3",
   "language": "python",
   "name": "python3"
  },
  "language_info": {
   "codemirror_mode": {
    "name": "ipython",
    "version": 3
   },
   "file_extension": ".py",
   "mimetype": "text/x-python",
   "name": "python",
   "nbconvert_exporter": "python",
   "pygments_lexer": "ipython3",
   "version": "3.8.5"
  }
 },
 "nbformat": 4,
 "nbformat_minor": 5
}
