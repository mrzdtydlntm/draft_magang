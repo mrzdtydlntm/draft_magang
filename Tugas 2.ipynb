{
 "cells": [
  {
   "cell_type": "markdown",
   "id": "neither-plain",
   "metadata": {
    "id": "neither-plain"
   },
   "source": [
    "## Soal Perulangan"
   ]
  },
  {
   "cell_type": "markdown",
   "id": "incoming-dependence",
   "metadata": {
    "id": "incoming-dependence"
   },
   "source": [
    "1. Apa perbedaan for loop dan while loop?\n",
    "\n",
    "2. Kapan kita menggunakan for loop dan kapan menggunakan while loop?"
   ]
  },
  {
   "cell_type": "markdown",
   "id": "sPZwF5juZY3y",
   "metadata": {
    "id": "sPZwF5juZY3y"
   },
   "source": [
    "Jawaban:"
   ]
  },
  {
   "cell_type": "code",
   "execution_count": null,
   "id": "occupational-message",
   "metadata": {
    "id": "occupational-message"
   },
   "outputs": [],
   "source": [
    "#buatlah contoh kasus menggunakan for loop"
   ]
  },
  {
   "cell_type": "code",
   "execution_count": null,
   "id": "legal-automation",
   "metadata": {
    "id": "legal-automation"
   },
   "outputs": [],
   "source": [
    "#buatlah contoh kasus menggunakan while loop"
   ]
  },
  {
   "cell_type": "markdown",
   "id": "placed-relationship",
   "metadata": {
    "id": "placed-relationship"
   },
   "source": [
    "Nested for: membuat code untuk menampilkan angka sebanyak besar angka tersebut"
   ]
  },
  {
   "cell_type": "code",
   "execution_count": null,
   "id": "commercial-median",
   "metadata": {
    "colab": {
     "base_uri": "https://localhost:8080/"
    },
    "id": "commercial-median",
    "outputId": "0a851340-ebe9-48dc-c244-dde60ea128d4"
   },
   "outputs": [],
   "source": [
    "#code here"
   ]
  },
  {
   "cell_type": "markdown",
   "id": "martial-active",
   "metadata": {
    "id": "martial-active"
   },
   "source": [
    "expected output:\n",
    "\n",
    "1\\\n",
    "2 2\\\n",
    "3 3 3\\\n",
    "4 4 4 4\\\n",
    "5 5 5 5 5\\\n",
    "6 6 6 6 6 6"
   ]
  },
  {
   "cell_type": "markdown",
   "id": "associate-conjunction",
   "metadata": {
    "id": "associate-conjunction"
   },
   "source": [
    "Nested while: membuat code untuk membuat segitiga menggunakan simbol 'o'"
   ]
  },
  {
   "cell_type": "code",
   "execution_count": null,
   "id": "infectious-butterfly",
   "metadata": {
    "colab": {
     "base_uri": "https://localhost:8080/"
    },
    "id": "infectious-butterfly",
    "outputId": "c1d6256e-2a61-4503-a805-dd0e5c78bac7"
   },
   "outputs": [],
   "source": [
    "#code here"
   ]
  },
  {
   "cell_type": "markdown",
   "id": "united-precipitation",
   "metadata": {
    "id": "united-precipitation"
   },
   "source": [
    "expected output:\n",
    "\n",
    "o\\\n",
    "o o\\\n",
    "o o o\\\n",
    "o o o o\\\n",
    "o o o o o"
   ]
  }
 ],
 "metadata": {
  "colab": {
   "collapsed_sections": [],
   "name": "Tugas 2(Perulangan).ipynb",
   "provenance": []
  },
  "kernelspec": {
   "display_name": "Python 3",
   "language": "python",
   "name": "python3"
  },
  "language_info": {
   "codemirror_mode": {
    "name": "ipython",
    "version": 3
   },
   "file_extension": ".py",
   "mimetype": "text/x-python",
   "name": "python",
   "nbconvert_exporter": "python",
   "pygments_lexer": "ipython3",
   "version": "3.8.5"
  }
 },
 "nbformat": 4,
 "nbformat_minor": 5
}
