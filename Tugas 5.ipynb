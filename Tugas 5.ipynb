{
 "cells": [
  {
   "cell_type": "markdown",
   "metadata": {},
   "source": [
    "## Object Oriented Programming"
   ]
  },
  {
   "cell_type": "markdown",
   "metadata": {},
   "source": [
    "1. Sebutkan fungsi dari return dalam Python Function\n",
    "2. Apakah pada function indentasi sangat penting? Mengapa?\n",
    "3. Apa itu object dan method pada class?\n",
    "4. Jelaskan apa itu parameter 'self'!\n",
    "5. Apa itu Class Attribute dan Instance Attribute?\n",
    "6. Jelaskan 3 konsep dari OOP (inheritance, Encapsulation, Polymorphism)"
   ]
  },
  {
   "cell_type": "markdown",
   "metadata": {},
   "source": [
    "Buatlah class untuk menggambarkan kehidupan mahasiswa dengan 4 behavior, yaitu belajar, nongkrong, makan dan jalan-jalan. Terdapat 3 objek dimana objek 1 mempunyai behavior belajar saja, objek 2 mempunyai behavior belajar dan makan, dan objek 3 memiliki semua behavior. Jangan lupa untuk menginput nama dari objek tersebut menggunakan self."
   ]
  },
  {
   "cell_type": "code",
   "execution_count": null,
   "metadata": {},
   "outputs": [],
   "source": [
    "#code here"
   ]
  },
  {
   "cell_type": "markdown",
   "metadata": {},
   "source": [
    "Dengan menggunakan konsep inheritance dan polymorphism, buatlah satu class untuk menggambarkan gaji karyawan Padjadjaran Lab dengan detail:\n",
    "1. Front End memiliki gaji pokok perbulan Rp1.000.000\n",
    "2. Back End memiliki gaji pokok perbulan Rp2.000.000\n",
    "3. Full Stack Developer memiliki gaji pokok perbulan Rp3.000.000\n",
    "4. Software Engineer memiliki gaji pokok perbulan Rp5.000.000\n",
    "5. Setiap pekerjaan memiliki insentif sebesar 10% untuk bagian Full Stack Developer dan Software Engineer\n",
    "6. Jika bekerja lembur, terdapat insentif 5% untuk Front End dan Back End, dan 10% untuk Full Stack Developer dan Software Engineer\n",
    "\n",
    "Objek yang dimiliki yaitu Udin di bagian Front End dan bulan ini dia akan lembur, Dadang di bagian Software Engineer dan akan lembur. Hitunglah total gaji masing-masing dari mereka"
   ]
  },
  {
   "cell_type": "code",
   "execution_count": null,
   "metadata": {},
   "outputs": [],
   "source": [
    "#code here"
   ]
  }
 ],
 "metadata": {
  "kernelspec": {
   "display_name": "Python 3",
   "language": "python",
   "name": "python3"
  },
  "language_info": {
   "codemirror_mode": {
    "name": "ipython",
    "version": 3
   },
   "file_extension": ".py",
   "mimetype": "text/x-python",
   "name": "python",
   "nbconvert_exporter": "python",
   "pygments_lexer": "ipython3",
   "version": "3.8.3"
  }
 },
 "nbformat": 4,
 "nbformat_minor": 4
}
