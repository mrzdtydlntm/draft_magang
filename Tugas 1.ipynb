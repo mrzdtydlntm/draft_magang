{
 "cells": [
  {
   "cell_type": "markdown",
   "metadata": {},
   "source": [
    "## Soal Tipe Data"
   ]
  },
  {
   "cell_type": "markdown",
   "metadata": {},
   "source": [
    "1. Jelaskan apa itu tipe data!\n",
    "2. Ada tipe data apa saja pada Python dan jelaskan!"
   ]
  },
  {
   "cell_type": "code",
   "execution_count": null,
   "metadata": {},
   "outputs": [],
   "source": [
    "a = 5\n",
    "b = 3.5\n",
    "c = 'Halo'\n",
    "d = True\n",
    "e = 'True'\n",
    "\n",
    "#Buatlah code untuk mengidentifikasi tipe data kelima variabel diatas\n",
    "print('{} bertipe {}'.format(...,type(...)))"
   ]
  },
  {
   "cell_type": "markdown",
   "metadata": {},
   "source": [
    "expected output:\n",
    "\n",
    "5 bertipe <class 'int'>\n",
    "\n",
    "3.5 bertipe <class 'float'>\n",
    "\n",
    "'Halo' bertipe <class 'str'>\n",
    "\n",
    "True bertipe <class 'bool'>\n",
    "\n",
    "'True' bertipe data <class 'str'>"
   ]
  },
  {
   "cell_type": "markdown",
   "metadata": {},
   "source": [
    "## Soal Komparasi Variabel"
   ]
  },
  {
   "cell_type": "markdown",
   "metadata": {},
   "source": [
    "Sebutkan komparasi variabel ada apa saja dan apa guna nya!"
   ]
  },
  {
   "cell_type": "code",
   "execution_count": null,
   "metadata": {},
   "outputs": [],
   "source": [
    "a = 5\n",
    "b = 3.5\n",
    "c = 'Halo'\n",
    "d = 'halo'\n",
    "e = True\n",
    "f = 'True'\n",
    "\n",
    "#Buatlah code untuk komparasi variabel\n",
    "print(f'{a} sama dengan {b} = {a...b}')"
   ]
  },
  {
   "cell_type": "markdown",
   "metadata": {},
   "source": [
    "expected output:\n",
    "\n",
    "5 sama dengan 3.5 = False\n",
    "\n",
    "Halo tidak sama dengan halo = True\n",
    "\n",
    "True tidak sama dengan True = True"
   ]
  },
  {
   "cell_type": "code",
   "execution_count": null,
   "metadata": {},
   "outputs": [],
   "source": [
    "a = 10\n",
    "b = 10\n",
    "\n",
    "#buatlah code untuk mencari hex tiap variabel nya dan bandingkan menggunakan 'is' dan 'is not'\n",
    "print()"
   ]
  }
 ],
 "metadata": {
  "kernelspec": {
   "display_name": "Python 3.8.5 64-bit",
   "language": "python",
   "name": "python38564bit67d9f39a0fb54fe2a7217e535432678f"
  },
  "language_info": {
   "codemirror_mode": {
    "name": "ipython",
    "version": 3
   },
   "file_extension": ".py",
   "mimetype": "text/x-python",
   "name": "python",
   "nbconvert_exporter": "python",
   "pygments_lexer": "ipython3",
   "version": "3.8.5"
  }
 },
 "nbformat": 4,
 "nbformat_minor": 4
}
